{
 "nbformat": 4,
 "nbformat_minor": 2,
 "metadata": {
  "language_info": {
   "name": "python",
   "codemirror_mode": {
    "name": "ipython",
    "version": 3
   },
   "version": "3.7.3"
  },
  "orig_nbformat": 2,
  "file_extension": ".py",
  "mimetype": "text/x-python",
  "name": "python",
  "npconvert_exporter": "python",
  "pygments_lexer": "ipython3",
  "version": 3
 },
 "cells": [
  {
   "cell_type": "code",
   "execution_count": 3,
   "metadata": {},
   "outputs": [],
   "source": [
    "import tensorflow as tf"
   ]
  },
  {
   "cell_type": "code",
   "execution_count": 4,
   "metadata": {},
   "outputs": [],
   "source": [
    "import os"
   ]
  },
  {
   "cell_type": "code",
   "execution_count": 5,
   "metadata": {},
   "outputs": [],
   "source": [
    "from tensorflow.examples.tutorials.mnist import input_data\n",
    "os.environ['CUDA_VISIBLE_DEVICES'] = \"\""
   ]
  },
  {
   "cell_type": "code",
   "execution_count": 6,
   "metadata": {},
   "outputs": [],
   "source": [
    "image_size=28*28\n",
    "output_num=10\n",
    "learning_rate=0.001\n",
    "loop_num=30000\n",
    "batch_size=100"
   ]
  },
  {
   "cell_type": "code",
   "execution_count": 7,
   "metadata": {},
   "outputs": [
    {
     "name": "stdout",
     "output_type": "stream",
     "text": "WARNING:tensorflow:From <ipython-input-7-2868daac4952>:1: read_data_sets (from tensorflow.contrib.learn.python.learn.datasets.mnist) is deprecated and will be removed in a future version.\nInstructions for updating:\nPlease use alternatives such as official/mnist/dataset.py from tensorflow/models.\nWARNING:tensorflow:From C:\\Users\\famil\\Anaconda3\\lib\\site-packages\\tensorflow\\contrib\\learn\\python\\learn\\datasets\\mnist.py:260: maybe_download (from tensorflow.contrib.learn.python.learn.datasets.base) is deprecated and will be removed in a future version.\nInstructions for updating:\nPlease write your own downloading logic.\nWARNING:tensorflow:From C:\\Users\\famil\\Anaconda3\\lib\\site-packages\\tensorflow\\contrib\\learn\\python\\learn\\datasets\\mnist.py:262: extract_images (from tensorflow.contrib.learn.python.learn.datasets.mnist) is deprecated and will be removed in a future version.\nInstructions for updating:\nPlease use tf.data to implement this functionality.\nExtracting MNIST_data/train-images-idx3-ubyte.gz\nWARNING:tensorflow:From C:\\Users\\famil\\Anaconda3\\lib\\site-packages\\tensorflow\\contrib\\learn\\python\\learn\\datasets\\mnist.py:267: extract_labels (from tensorflow.contrib.learn.python.learn.datasets.mnist) is deprecated and will be removed in a future version.\nInstructions for updating:\nPlease use tf.data to implement this functionality.\nExtracting MNIST_data/train-labels-idx1-ubyte.gz\nWARNING:tensorflow:From C:\\Users\\famil\\Anaconda3\\lib\\site-packages\\tensorflow\\contrib\\learn\\python\\learn\\datasets\\mnist.py:110: dense_to_one_hot (from tensorflow.contrib.learn.python.learn.datasets.mnist) is deprecated and will be removed in a future version.\nInstructions for updating:\nPlease use tf.one_hot on tensors.\nExtracting MNIST_data/t10k-images-idx3-ubyte.gz\nExtracting MNIST_data/t10k-labels-idx1-ubyte.gz\nWARNING:tensorflow:From C:\\Users\\famil\\Anaconda3\\lib\\site-packages\\tensorflow\\contrib\\learn\\python\\learn\\datasets\\mnist.py:290: DataSet.__init__ (from tensorflow.contrib.learn.python.learn.datasets.mnist) is deprecated and will be removed in a future version.\nInstructions for updating:\nPlease use alternatives such as official/mnist/dataset.py from tensorflow/models.\n"
    }
   ],
   "source": [
    "    mnist=input_data.read_data_sets(\"MNIST_data/\",one_hot=True) # MNISTデータセットを読み込む\n",
    "# print(mnist.train.labels[0])\n",
    "\n",
    "# sess.run(up_op)\n",
    "# print(mnist.train.labels[0])"
   ]
  },
  {
   "cell_type": "code",
   "execution_count": 8,
   "metadata": {},
   "outputs": [],
   "source": [
    "# CPUを使うときのおまじない\n",
    "with tf.device(\"/cpu:0\"):\n",
    "    # none:入力する値の数\n",
    "    x=tf.placeholder(tf.float32,[None,image_size])\n",
    "    # 重みW(初期値は０のみがはいった配列）\n",
    "    W=tf.Variable(tf.zeros([image_size,output_num]))\n",
    "    # バイアス（初期値は０のみの配列）\n",
    "    b=tf.Variable(tf.zeros([output_num]))\n",
    "    # out=tf.matmul(x,W)+b\n",
    "    # ソフトマックス関数に代入 (すべてのWとxを掛け合わせてbをたしたかず) して予測値を出力 \n",
    "    y=tf.nn.softmax(tf.matmul(x, W) + b) \n",
    "    # 正解ラベル\n",
    "    y_=tf.placeholder(tf.float32,[None,output_num])\n",
    "\n",
    "    # コスト関数（誤差の計算をする→評価）\n",
    "    cross_entropy=-tf.reduce_sum(y_*tf.log(y))\n",
    "\n",
    "    # 最適化関数→差逆伝播法→誤差の最小化！（tf凄い！！\n",
    "    train_step=tf.train.GradientDescentOptimizer(learning_rate).minimize(cross_entropy)\n",
    "    # 予測値が正解かどうか確かめ\n",
    "    ac_pre=tf.equal(tf.argmax(y,1),tf.argmax(y_,1))\n",
    "    # 精度の計算\n",
    "    ac=tf.reduce_mean(tf.cast(ac_pre,tf.float32))\n",
    "\n",
    "    # おまじない\n",
    "    init=tf.global_variables_initializer()\n",
    "    sess=tf.InteractiveSession()\n",
    "    sess.run(init)"
   ]
  },
  {
   "cell_type": "code",
   "execution_count": 9,
   "metadata": {},
   "outputs": [
    {
     "name": "stdout",
     "output_type": "stream",
     "text": "step 0 AC率: 0.3\nstep 100 AC率: 0.87\nstep 200 AC率: 0.86\nstep 300 AC率: 0.9\nstep 400 AC率: 0.91\nstep 500 AC率: 0.94\nstep 600 AC率: 0.91\nstep 700 AC率: 0.94\nstep 800 AC率: 0.97\nstep 900 AC率: 0.91\nstep 1000 AC率: 0.91\nstep 1100 AC率: 0.92\nstep 1200 AC率: 0.89\nstep 1300 AC率: 0.91\nstep 1400 AC率: 0.9\nstep 1500 AC率: 0.95\nstep 1600 AC率: 0.92\nstep 1700 AC率: 0.9\nstep 1800 AC率: 0.91\nstep 1900 AC率: 0.92\nstep 2000 AC率: 0.93\nstep 2100 AC率: 0.89\nstep 2200 AC率: 0.91\nstep 2300 AC率: 0.92\nstep 2400 AC率: 0.89\nstep 2500 AC率: 0.96\nstep 2600 AC率: 0.89\nstep 2700 AC率: 0.95\nstep 2800 AC率: 0.94\nstep 2900 AC率: 0.91\nstep 3000 AC率: 0.94\nstep 3100 AC率: 0.92\nstep 3200 AC率: 0.95\nstep 3300 AC率: 0.92\nstep 3400 AC率: 0.94\nstep 3500 AC率: 0.92\nstep 3600 AC率: 0.93\nstep 3700 AC率: 0.94\nstep 3800 AC率: 0.91\nstep 3900 AC率: 0.96\nstep 4000 AC率: 0.94\nstep 4100 AC率: 0.88\nstep 4200 AC率: 0.96\nstep 4300 AC率: 0.93\nstep 4400 AC率: 0.95\nstep 4500 AC率: 0.93\nstep 4600 AC率: 0.92\nstep 4700 AC率: 0.89\nstep 4800 AC率: 0.96\nstep 4900 AC率: 0.91\nstep 5000 AC率: 0.98\nstep 5100 AC率: 0.87\nstep 5200 AC率: 0.95\nstep 5300 AC率: 0.93\nstep 5400 AC率: 0.94\nstep 5500 AC率: 0.92\nstep 5600 AC率: 0.97\nstep 5700 AC率: 0.93\nstep 5800 AC率: 0.93\nstep 5900 AC率: 0.93\nstep 6000 AC率: 0.94\nstep 6100 AC率: 0.94\nstep 6200 AC率: 0.95\nstep 6300 AC率: 0.91\nstep 6400 AC率: 0.91\nstep 6500 AC率: 0.88\nstep 6600 AC率: 0.96\nstep 6700 AC率: 0.96\nstep 6800 AC率: 0.95\nstep 6900 AC率: 0.91\nstep 7000 AC率: 0.94\nstep 7100 AC率: 0.94\nstep 7200 AC率: 0.97\nstep 7300 AC率: 0.95\nstep 7400 AC率: 0.94\nstep 7500 AC率: 0.88\nstep 7600 AC率: 0.88\nstep 7700 AC率: 0.93\nstep 7800 AC率: 0.94\nstep 7900 AC率: 0.9\nstep 8000 AC率: 0.91\nstep 8100 AC率: 0.96\nstep 8200 AC率: 0.9\nstep 8300 AC率: 0.93\nstep 8400 AC率: 0.93\nstep 8500 AC率: 0.94\nstep 8600 AC率: 0.93\nstep 8700 AC率: 0.92\nstep 8800 AC率: 0.9\nstep 8900 AC率: 0.88\nstep 9000 AC率: 0.93\nstep 9100 AC率: 0.9\nstep 9200 AC率: 0.91\nstep 9300 AC率: 0.87\nstep 9400 AC率: 0.93\nstep 9500 AC率: 0.96\nstep 9600 AC率: 0.89\nstep 9700 AC率: 0.94\nstep 9800 AC率: 0.89\nstep 9900 AC率: 0.91\nstep 10000 AC率: 0.97\nstep 10100 AC率: 0.94\nstep 10200 AC率: 0.94\nstep 10300 AC率: 0.9\nstep 10400 AC率: 0.9\nstep 10500 AC率: 0.91\nstep 10600 AC率: 0.95\nstep 10700 AC率: 0.94\nstep 10800 AC率: 0.93\nstep 10900 AC率: 0.9\nstep 11000 AC率: 0.93\nstep 11100 AC率: 0.92\nstep 11200 AC率: 0.9\nstep 11300 AC率: 0.95\nstep 11400 AC率: 0.85\nstep 11500 AC率: 0.88\nstep 11600 AC率: 0.93\nstep 11700 AC率: 0.93\nstep 11800 AC率: 0.93\nstep 11900 AC率: 0.94\nstep 12000 AC率: 0.88\nstep 12100 AC率: 0.94\nstep 12200 AC率: 0.91\nstep 12300 AC率: 0.93\nstep 12400 AC率: 0.94\nstep 12500 AC率: 0.93\nstep 12600 AC率: 0.95\nstep 12700 AC率: 0.94\nstep 12800 AC率: 0.93\nstep 12900 AC率: 0.93\nstep 13000 AC率: 0.93\nstep 13100 AC率: 0.94\nstep 13200 AC率: 0.96\nstep 13300 AC率: 0.92\n"
    }
   ],
   "source": [
    "# もでるのがくしゅう30000回\n",
    "for i in range(loop_num):\n",
    "    # b_xs画像データb_ys答え[0~9]\n",
    "    batch_xs,batch_ys=mnist.train.next_batch(batch_size)\n",
    "    # ｘにbatch_x,y_にbatch_ysを代入し、トレーニングを行う\n",
    "    sess.run(train_step, feed_dict={x:batch_xs,y_:batch_ys})\n",
    "    # 100回ごとに正確率を出力\n",
    "\n",
    "    if i%100==0:\n",
    "        print(\"step\", i, \"AC率:\", sess.run(ac, feed_dict={x: batch_xs, y_: batch_ys}))\n",
    "\n",
    "    if i==loop_num-1:\n",
    "        print(\"AC率:\", sess.run(ac, feed_dict={x: batch_xs, y_: batch_ys}))"
   ]
  }
 ]
}